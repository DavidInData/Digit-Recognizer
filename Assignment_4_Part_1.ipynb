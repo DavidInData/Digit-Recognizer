{
 "cells": [
  {
   "cell_type": "code",
   "execution_count": 1,
   "id": "dc9e1fad",
   "metadata": {},
   "outputs": [],
   "source": [
    "from IPython.display import HTML\n",
    "from IPython.display import Image \n",
    "from IPython.core.interactiveshell import InteractiveShell\n",
    "InteractiveShell.ast_node_interactivity = \"all\""
   ]
  },
  {
   "cell_type": "markdown",
   "id": "259adc04",
   "metadata": {},
   "source": [
    "# Assignment 4 - Part 1 | Digit Recognizer\n",
    "David Thor MSDS 422 - Practical Machine Learning\n"
   ]
  },
  {
   "cell_type": "markdown",
   "id": "d7268351",
   "metadata": {},
   "source": [
    "# Libraries"
   ]
  },
  {
   "cell_type": "code",
   "execution_count": 6,
   "id": "5b0c3bfb",
   "metadata": {},
   "outputs": [],
   "source": [
    "import os\n",
    "import numpy as np\n",
    "import pandas as pd\n",
    "import math\n",
    "import matplotlib.pyplot as plt\n",
    "import seaborn as sns\n",
    "from sklearn import preprocessing\n",
    "from sklearn.model_selection import train_test_split\n",
    "from sklearn import metrics\n",
    "from sklearn import linear_model\n",
    "from scipy import stats\n",
    "import matplotlib.gridspec as gridspec\n",
    "from sklearn.compose import ColumnTransformer\n",
    "from sklearn.linear_model import Ridge\n",
    "from sklearn.model_selection import KFold\n",
    "from sklearn.linear_model import Lasso\n",
    "from sklearn.model_selection import GridSearchCV\n",
    "from sklearn.model_selection import RepeatedKFold\n",
    "from sklearn.linear_model import ElasticNet\n",
    "from sklearn.metrics import mean_squared_error\n",
    "from sklearn.linear_model import LogisticRegression\n",
    "from sklearn.discriminant_analysis import LinearDiscriminantAnalysis\n",
    "from sklearn.neighbors import KNeighborsClassifier\n",
    "import glob\n",
    "from PIL import Image\n",
    "import PIL\n",
    "import matplotlib.pyplot as plt\n",
    "from sklearn.decomposition import PCA\n",
    "from sklearn.metrics import accuracy_score\n",
    "import warnings\n",
    "warnings.filterwarnings('ignore')\n",
    "import os\n",
    "import numpy as np\n",
    "import pandas as pd\n",
    "import tensorflow as tf\n",
    "from tensorflow.keras import layers\n",
    "from tensorflow.keras import models\n",
    "from tensorflow.keras import optimizers\n",
    "from keras.models import load_model, save_model\n",
    "from sklearn.model_selection import train_test_split\n",
    "import matplotlib.pyplot as plt\n",
    "import seaborn as sns\n",
    "#from plot_keras_history import show_history, plot_history\n",
    "#import scikitplot as skplt\n",
    "%matplotlib inline"
   ]
  },
  {
   "cell_type": "code",
   "execution_count": 7,
   "id": "954a820c",
   "metadata": {},
   "outputs": [
    {
     "data": {
      "text/plain": [
       "'/Users/dthor/Desktop/Assignment 4'"
      ]
     },
     "execution_count": 7,
     "metadata": {},
     "output_type": "execute_result"
    }
   ],
   "source": [
    "os.getcwd()"
   ]
  },
  {
   "cell_type": "markdown",
   "id": "422b78a2",
   "metadata": {},
   "source": [
    "# Part 0 - Importing Data\n",
    "\n"
   ]
  },
  {
   "cell_type": "code",
   "execution_count": 119,
   "id": "c3923fb3",
   "metadata": {},
   "outputs": [],
   "source": [
    "##Importing Data\n",
    "trainDat = pd.read_csv('train.csv')\n",
    "testDat =  pd.read_csv('test.csv')"
   ]
  },
  {
   "cell_type": "code",
   "execution_count": 120,
   "id": "b18df0de",
   "metadata": {},
   "outputs": [
    {
     "data": {
      "text/plain": [
       "(42000, 785)"
      ]
     },
     "execution_count": 120,
     "metadata": {},
     "output_type": "execute_result"
    },
    {
     "data": {
      "text/plain": [
       "(28000, 784)"
      ]
     },
     "execution_count": 120,
     "metadata": {},
     "output_type": "execute_result"
    }
   ],
   "source": [
    "trainDat.shape\n",
    "testDat.shape"
   ]
  },
  {
   "cell_type": "code",
   "execution_count": 121,
   "id": "dc9d40de",
   "metadata": {},
   "outputs": [
    {
     "data": {
      "text/plain": [
       "{'label'}"
      ]
     },
     "execution_count": 121,
     "metadata": {},
     "output_type": "execute_result"
    }
   ],
   "source": [
    "# checking variables to make sure label is the y variable\n",
    "set(trainDat.columns).difference(set(testDat.columns))"
   ]
  },
  {
   "cell_type": "code",
   "execution_count": 122,
   "id": "01868d9e",
   "metadata": {},
   "outputs": [
    {
     "data": {
      "text/plain": [
       "(42000, 784)"
      ]
     },
     "execution_count": 122,
     "metadata": {},
     "output_type": "execute_result"
    },
    {
     "data": {
      "text/plain": [
       "(42000,)"
      ]
     },
     "execution_count": 122,
     "metadata": {},
     "output_type": "execute_result"
    }
   ],
   "source": [
    "y=trainDat.label.to_numpy(copy=True)\n",
    "X=trainDat.loc[:,trainDat.columns!='label'].to_numpy(copy=True)\n",
    "#Divide my 255 to scale pixels. Should only be bettwen 0 and 1\n",
    "X = X/255\n",
    "X.shape\n",
    "y.shape"
   ]
  },
  {
   "cell_type": "code",
   "execution_count": 123,
   "id": "0c412cbf",
   "metadata": {},
   "outputs": [
    {
     "data": {
      "text/plain": [
       "(37800, 784)"
      ]
     },
     "execution_count": 123,
     "metadata": {},
     "output_type": "execute_result"
    },
    {
     "data": {
      "text/plain": [
       "(4200, 784)"
      ]
     },
     "execution_count": 123,
     "metadata": {},
     "output_type": "execute_result"
    }
   ],
   "source": [
    "## Setting 10% for final/validation testing\n",
    "TrainX, TestX, Trainy, Testy = train_test_split(X,y,\n",
    "                                      stratify=y,\n",
    "                                      shuffle=True,\n",
    "                                      test_size=0.10,\n",
    "                                      random_state=3)\n",
    "TrainX.shape\n",
    "TestX.shape"
   ]
  },
  {
   "cell_type": "code",
   "execution_count": 124,
   "id": "15b65937",
   "metadata": {},
   "outputs": [
    {
     "data": {
      "text/plain": [
       "(37700, 784)"
      ]
     },
     "execution_count": 124,
     "metadata": {},
     "output_type": "execute_result"
    },
    {
     "data": {
      "text/plain": [
       "(37700,)"
      ]
     },
     "execution_count": 124,
     "metadata": {},
     "output_type": "execute_result"
    },
    {
     "data": {
      "text/plain": [
       "(100, 784)"
      ]
     },
     "execution_count": 124,
     "metadata": {},
     "output_type": "execute_result"
    },
    {
     "data": {
      "text/plain": [
       "(100,)"
      ]
     },
     "execution_count": 124,
     "metadata": {},
     "output_type": "execute_result"
    }
   ],
   "source": [
    "## Setting 100 cases for final test data (final_exam)\n",
    "XTrain,FinalX, yTrain, Finaly = train_test_split(TrainX,Trainy,\n",
    "                                                    stratify=Trainy,\n",
    "                                                    test_size=100,\n",
    "                                                    random_state=5)\n",
    "XTrain.shape\n",
    "yTrain.shape\n",
    "FinalX.shape\n",
    "Finaly.shape"
   ]
  },
  {
   "cell_type": "code",
   "execution_count": 125,
   "id": "d87767f6",
   "metadata": {},
   "outputs": [],
   "source": [
    "# Saving these arrays for subsequent use.\n",
    "\n",
    "with open('Xtrain.npy','wb') as outFile:\n",
    "    np.save(outFile,XTrain)\n",
    "\n",
    "with open('yTrain.npy','wb')as outFile:\n",
    "    np.save(outFile,yTrain)\n",
    "\n",
    "with open('TestX.npy','wb') as outFile:\n",
    "    np.save(outFile,TestX)\n",
    "\n",
    "with open('Testy.npy','wb') as outFile:\n",
    "    np.save(outFile,Testy)\n",
    "\n",
    "with open('FinalX.npy','wb') as outFile:\n",
    "    np.save(outFile, FinalX)\n",
    "\n",
    "with open('Finaly.npy','wb') as outFile:\n",
    "    np.save(outFile,Finaly)\n",
    "\n"
   ]
  },
  {
   "cell_type": "markdown",
   "id": "0817de39",
   "metadata": {},
   "source": [
    "## Baseline MLP\n",
    "- Hidden Layer: 1\n",
    "- Activation: relu\n",
    "- Because the output is multiclass classification, final/last activation: softmax and compiled the model with loss = sparse_categorical_crossentropy. I used sparse because I did not one-hot encode the output\n",
    "- epics: 25\n",
    "- batch size: 32"
   ]
  },
  {
   "cell_type": "code",
   "execution_count": 126,
   "id": "d0acd37d",
   "metadata": {},
   "outputs": [],
   "source": [
    "tf.keras.backend.clear_session()\n",
    "tf.random.set_seed(9)"
   ]
  },
  {
   "cell_type": "code",
   "execution_count": 127,
   "id": "20a08c65",
   "metadata": {},
   "outputs": [
    {
     "name": "stdout",
     "output_type": "stream",
     "text": [
      "Model: \"sequential\"\n",
      "_________________________________________________________________\n",
      "Layer (type)                 Output Shape              Param #   \n",
      "=================================================================\n",
      "dense (Dense)                (None, 32)                25120     \n",
      "_________________________________________________________________\n",
      "dense_1 (Dense)              (None, 10)                330       \n",
      "=================================================================\n",
      "Total params: 25,450\n",
      "Trainable params: 25,450\n",
      "Non-trainable params: 0\n",
      "_________________________________________________________________\n"
     ]
    }
   ],
   "source": [
    "#base model set up\n",
    "mlp1 = tf.keras.Sequential()\n",
    "mlp1.add(tf.keras.Input(shape=(784,)))\n",
    "mlp1.add(layers.Dense(32,activation='relu'))\n",
    "mlp1.add(layers.Dense(10,activation='softmax'))\n",
    "mlp1.summary()"
   ]
  },
  {
   "cell_type": "code",
   "execution_count": 128,
   "id": "781b473c",
   "metadata": {},
   "outputs": [],
   "source": [
    "# Compile\n",
    "mlp1.compile(loss='sparse_categorical_crossentropy',\n",
    "             optimizer=optimizers.RMSprop(learning_rate=1e-4),\n",
    "             metrics=['acc'])"
   ]
  },
  {
   "cell_type": "markdown",
   "id": "b7c56923",
   "metadata": {},
   "source": [
    "### Baseline MLP Training"
   ]
  },
  {
   "cell_type": "code",
   "execution_count": 129,
   "id": "f6f07fe4",
   "metadata": {},
   "outputs": [],
   "source": [
    "mlp1_history=mlp1.fit(XTrain, yTrain,\n",
    "        epochs=25,\n",
    "        batch_size=32,\n",
    "        validation_data=(TestX,Testy),\n",
    "        verbose=0)\n"
   ]
  },
  {
   "cell_type": "code",
   "execution_count": 130,
   "id": "08c0ec4b",
   "metadata": {},
   "outputs": [],
   "source": [
    "save_model(mlp1,'mlp1.h5') #2 minutes"
   ]
  },
  {
   "cell_type": "markdown",
   "id": "917ba63e",
   "metadata": {},
   "source": [
    "### Baseline MLP Results"
   ]
  },
  {
   "cell_type": "code",
   "execution_count": 131,
   "id": "028ba64b",
   "metadata": {},
   "outputs": [
    {
     "data": {
      "text/plain": [
       "dict_keys(['loss', 'acc', 'val_loss', 'val_acc'])"
      ]
     },
     "execution_count": 131,
     "metadata": {},
     "output_type": "execute_result"
    }
   ],
   "source": [
    "mlp1_history.history.keys()"
   ]
  },
  {
   "cell_type": "code",
   "execution_count": 133,
   "id": "f07c58ad",
   "metadata": {},
   "outputs": [
    {
     "data": {
      "text/html": [
       "<div>\n",
       "<style scoped>\n",
       "    .dataframe tbody tr th:only-of-type {\n",
       "        vertical-align: middle;\n",
       "    }\n",
       "\n",
       "    .dataframe tbody tr th {\n",
       "        vertical-align: top;\n",
       "    }\n",
       "\n",
       "    .dataframe thead th {\n",
       "        text-align: right;\n",
       "    }\n",
       "</style>\n",
       "<table border=\"1\" class=\"dataframe\">\n",
       "  <thead>\n",
       "    <tr style=\"text-align: right;\">\n",
       "      <th></th>\n",
       "      <th>loss</th>\n",
       "      <th>acc</th>\n",
       "      <th>val_loss</th>\n",
       "      <th>val_acc</th>\n",
       "    </tr>\n",
       "  </thead>\n",
       "  <tbody>\n",
       "    <tr>\n",
       "      <th>24</th>\n",
       "      <td>0.176213</td>\n",
       "      <td>0.951247</td>\n",
       "      <td>0.201408</td>\n",
       "      <td>0.940238</td>\n",
       "    </tr>\n",
       "    <tr>\n",
       "      <th>22</th>\n",
       "      <td>0.183600</td>\n",
       "      <td>0.949416</td>\n",
       "      <td>0.206929</td>\n",
       "      <td>0.939762</td>\n",
       "    </tr>\n",
       "    <tr>\n",
       "      <th>23</th>\n",
       "      <td>0.179762</td>\n",
       "      <td>0.949735</td>\n",
       "      <td>0.204688</td>\n",
       "      <td>0.939286</td>\n",
       "    </tr>\n",
       "    <tr>\n",
       "      <th>21</th>\n",
       "      <td>0.187452</td>\n",
       "      <td>0.947507</td>\n",
       "      <td>0.210698</td>\n",
       "      <td>0.937619</td>\n",
       "    </tr>\n",
       "    <tr>\n",
       "      <th>20</th>\n",
       "      <td>0.191544</td>\n",
       "      <td>0.947029</td>\n",
       "      <td>0.214906</td>\n",
       "      <td>0.937619</td>\n",
       "    </tr>\n",
       "  </tbody>\n",
       "</table>\n",
       "</div>"
      ],
      "text/plain": [
       "        loss       acc  val_loss   val_acc\n",
       "24  0.176213  0.951247  0.201408  0.940238\n",
       "22  0.183600  0.949416  0.206929  0.939762\n",
       "23  0.179762  0.949735  0.204688  0.939286\n",
       "21  0.187452  0.947507  0.210698  0.937619\n",
       "20  0.191544  0.947029  0.214906  0.937619"
      ]
     },
     "execution_count": 133,
     "metadata": {},
     "output_type": "execute_result"
    }
   ],
   "source": [
    "# Observe the top 5 epics with highest validation accuracy\n",
    "pd.DataFrame(mlp1_history.history).sort_values(['val_acc'],\\\n",
    "                                               ascending=False).iloc[:5]"
   ]
  },
  {
   "cell_type": "markdown",
   "id": "5b85b683",
   "metadata": {},
   "source": [
    "### Baseline Final Exam"
   ]
  },
  {
   "cell_type": "code",
   "execution_count": 134,
   "id": "eb902c68",
   "metadata": {},
   "outputs": [
    {
     "data": {
      "text/plain": [
       "(100, 10)"
      ]
     },
     "execution_count": 134,
     "metadata": {},
     "output_type": "execute_result"
    },
    {
     "data": {
      "text/plain": [
       "(100,)"
      ]
     },
     "execution_count": 134,
     "metadata": {},
     "output_type": "execute_result"
    }
   ],
   "source": [
    "FinalPreds = mlp1.predict(FinalX)\n",
    "#FinalPreds[:5]\n",
    "#Finaly[:5]\n",
    "FinalPreds.shape\n",
    "Finaly.shape"
   ]
  },
  {
   "cell_type": "code",
   "execution_count": 135,
   "id": "00fc5b74",
   "metadata": {},
   "outputs": [
    {
     "name": "stdout",
     "output_type": "stream",
     "text": [
      "Baseline Final Exam Accuracy:  0.95\n"
     ]
    }
   ],
   "source": [
    "# This will produce the accuracy of my base line model \\\n",
    "##   against the 100 final exam records\n",
    "accuracy_baseline_final_exam = accuracy_score(Finaly,\\\n",
    "                                              mlp1.predict_classes(FinalX))\n",
    "print (f'Baseline Final Exam Accuracy: ', \\\n",
    "       accuracy_baseline_final_exam)"
   ]
  },
  {
   "cell_type": "markdown",
   "id": "b8c12993",
   "metadata": {},
   "source": [
    "### MLP Model 1:\n",
    " - Hidden Layers: 2\n",
    " - Activiation Method: Relu\n",
    " - Epics: 25\n",
    " - Batch size: 32\n",
    " \n",
    " - I defined these parameters/hyperparaters because I want to produce a very controlled experiment. Most of the parameteres will actually reamin the same. I will only change the hidden layers the the activation method."
   ]
  },
  {
   "cell_type": "code",
   "execution_count": 137,
   "id": "f9fc5351",
   "metadata": {},
   "outputs": [
    {
     "name": "stdout",
     "output_type": "stream",
     "text": [
      "Model: \"sequential_1\"\n",
      "_________________________________________________________________\n",
      "Layer (type)                 Output Shape              Param #   \n",
      "=================================================================\n",
      "dense_2 (Dense)              (None, 32)                25120     \n",
      "_________________________________________________________________\n",
      "dense_3 (Dense)              (None, 64)                2112      \n",
      "_________________________________________________________________\n",
      "dense_4 (Dense)              (None, 10)                650       \n",
      "=================================================================\n",
      "Total params: 27,882\n",
      "Trainable params: 27,882\n",
      "Non-trainable params: 0\n",
      "_________________________________________________________________\n"
     ]
    }
   ],
   "source": [
    "#First layer of 32 nodes with relu\n",
    "#Second layer of 64 nodes with relu\n",
    "mlp2 = tf.keras.Sequential()\n",
    "mlp2.add(tf.keras.Input(shape=(784,)))\n",
    "mlp2.add(layers.Dense(32,activation='relu'))\n",
    "mlp2.add(layers.Dense(64,activation='relu'))\n",
    "mlp2.add(layers.Dense(10,activation='softmax'))\n",
    "mlp2.summary()"
   ]
  },
  {
   "cell_type": "code",
   "execution_count": 138,
   "id": "8275995f",
   "metadata": {},
   "outputs": [],
   "source": [
    "# Compile.\n",
    "mlp2.compile(loss='sparse_categorical_crossentropy',\n",
    "             optimizer=optimizers.RMSprop(learning_rate=1e-4),\n",
    "             metrics=['acc'])"
   ]
  },
  {
   "cell_type": "markdown",
   "id": "dc79f928",
   "metadata": {},
   "source": [
    "### MLP Model 1: Training"
   ]
  },
  {
   "cell_type": "code",
   "execution_count": 139,
   "id": "5e1288c7",
   "metadata": {},
   "outputs": [],
   "source": [
    "mlp1_history=mlp2.fit(XTrain, yTrain,\n",
    "        epochs=25,\n",
    "        batch_size=32,\n",
    "        validation_data=(TestX,Testy),\n",
    "        verbose=0)"
   ]
  },
  {
   "cell_type": "code",
   "execution_count": 140,
   "id": "4d92e28e",
   "metadata": {},
   "outputs": [],
   "source": [
    "save_model(mlp2,'mlp2.h5') ## 9:59 - 10:02"
   ]
  },
  {
   "cell_type": "code",
   "execution_count": 141,
   "id": "f2e047b4",
   "metadata": {},
   "outputs": [
    {
     "data": {
      "text/html": [
       "<div>\n",
       "<style scoped>\n",
       "    .dataframe tbody tr th:only-of-type {\n",
       "        vertical-align: middle;\n",
       "    }\n",
       "\n",
       "    .dataframe tbody tr th {\n",
       "        vertical-align: top;\n",
       "    }\n",
       "\n",
       "    .dataframe thead th {\n",
       "        text-align: right;\n",
       "    }\n",
       "</style>\n",
       "<table border=\"1\" class=\"dataframe\">\n",
       "  <thead>\n",
       "    <tr style=\"text-align: right;\">\n",
       "      <th></th>\n",
       "      <th>loss</th>\n",
       "      <th>acc</th>\n",
       "      <th>val_loss</th>\n",
       "      <th>val_acc</th>\n",
       "    </tr>\n",
       "  </thead>\n",
       "  <tbody>\n",
       "    <tr>\n",
       "      <th>22</th>\n",
       "      <td>0.131695</td>\n",
       "      <td>0.961804</td>\n",
       "      <td>0.161347</td>\n",
       "      <td>0.953333</td>\n",
       "    </tr>\n",
       "    <tr>\n",
       "      <th>24</th>\n",
       "      <td>0.125436</td>\n",
       "      <td>0.964324</td>\n",
       "      <td>0.157817</td>\n",
       "      <td>0.952619</td>\n",
       "    </tr>\n",
       "    <tr>\n",
       "      <th>23</th>\n",
       "      <td>0.128713</td>\n",
       "      <td>0.962891</td>\n",
       "      <td>0.158566</td>\n",
       "      <td>0.951905</td>\n",
       "    </tr>\n",
       "    <tr>\n",
       "      <th>21</th>\n",
       "      <td>0.135023</td>\n",
       "      <td>0.960504</td>\n",
       "      <td>0.163339</td>\n",
       "      <td>0.951190</td>\n",
       "    </tr>\n",
       "    <tr>\n",
       "      <th>20</th>\n",
       "      <td>0.138495</td>\n",
       "      <td>0.960133</td>\n",
       "      <td>0.165528</td>\n",
       "      <td>0.948571</td>\n",
       "    </tr>\n",
       "  </tbody>\n",
       "</table>\n",
       "</div>"
      ],
      "text/plain": [
       "        loss       acc  val_loss   val_acc\n",
       "22  0.131695  0.961804  0.161347  0.953333\n",
       "24  0.125436  0.964324  0.157817  0.952619\n",
       "23  0.128713  0.962891  0.158566  0.951905\n",
       "21  0.135023  0.960504  0.163339  0.951190\n",
       "20  0.138495  0.960133  0.165528  0.948571"
      ]
     },
     "execution_count": 141,
     "metadata": {},
     "output_type": "execute_result"
    }
   ],
   "source": [
    "# Observe the top 5 epics with highest validation accuracy\n",
    "pd.DataFrame(mlp1_history.history).sort_values(['val_acc'],\n",
    "                                               \\ascending=False).iloc[:5]"
   ]
  },
  {
   "cell_type": "code",
   "execution_count": 143,
   "id": "3b2e075e",
   "metadata": {},
   "outputs": [
    {
     "name": "stdout",
     "output_type": "stream",
     "text": [
      "Model 1 Final Exam Accuracy:  0.95\n"
     ]
    }
   ],
   "source": [
    "accuracy_baseline_final_exam = accuracy_score(Finaly,\\\n",
    "                                              mlp2.predict_classes(FinalX))\n",
    "print (f'Model 1 Final Exam Accuracy: ', \\\n",
    "       accuracy_baseline_final_exam)"
   ]
  },
  {
   "cell_type": "markdown",
   "id": "ea1e9612",
   "metadata": {},
   "source": [
    "### MLP Model 2\n",
    "- Hidden Layers: 2\n",
    "- Activation: Leaky relu\n",
    "- All other parameters and hyperparameters are the same\n"
   ]
  },
  {
   "cell_type": "code",
   "execution_count": 144,
   "id": "9446940c",
   "metadata": {
    "scrolled": true
   },
   "outputs": [
    {
     "name": "stdout",
     "output_type": "stream",
     "text": [
      "Model: \"sequential_2\"\n",
      "_________________________________________________________________\n",
      "Layer (type)                 Output Shape              Param #   \n",
      "=================================================================\n",
      "dense_5 (Dense)              (None, 32)                25120     \n",
      "_________________________________________________________________\n",
      "dense_6 (Dense)              (None, 64)                2112      \n",
      "_________________________________________________________________\n",
      "dense_7 (Dense)              (None, 10)                650       \n",
      "=================================================================\n",
      "Total params: 27,882\n",
      "Trainable params: 27,882\n",
      "Non-trainable params: 0\n",
      "_________________________________________________________________\n"
     ]
    }
   ],
   "source": [
    "mlp3 = tf.keras.Sequential()\n",
    "mlp3.add(tf.keras.Input(shape=(784,)))\n",
    "mlp3.add(layers.Dense(32,activation=tf.keras.layers.LeakyReLU(alpha=0.01)))\n",
    "mlp3.add(layers.Dense(64,activation=tf.keras.layers.LeakyReLU(alpha=0.01)))\n",
    "mlp3.add(layers.Dense(10,activation='softmax'))\n",
    "mlp3.summary()"
   ]
  },
  {
   "cell_type": "code",
   "execution_count": 145,
   "id": "d1180823",
   "metadata": {},
   "outputs": [],
   "source": [
    "# Compile\n",
    "mlp3.compile(loss='sparse_categorical_crossentropy',\n",
    "             optimizer=optimizers.RMSprop(learning_rate=1e-4),\n",
    "             metrics=['acc'])"
   ]
  },
  {
   "cell_type": "code",
   "execution_count": 146,
   "id": "e0937c1e",
   "metadata": {},
   "outputs": [],
   "source": [
    "#Training\n",
    "mlp1_history=mlp3.fit(XTrain, yTrain,\n",
    "        epochs=25,\n",
    "        batch_size=32,\n",
    "        validation_data=(TestX,Testy),\n",
    "        verbose=0) "
   ]
  },
  {
   "cell_type": "code",
   "execution_count": 147,
   "id": "ca3a1d55",
   "metadata": {},
   "outputs": [
    {
     "data": {
      "text/html": [
       "<div>\n",
       "<style scoped>\n",
       "    .dataframe tbody tr th:only-of-type {\n",
       "        vertical-align: middle;\n",
       "    }\n",
       "\n",
       "    .dataframe tbody tr th {\n",
       "        vertical-align: top;\n",
       "    }\n",
       "\n",
       "    .dataframe thead th {\n",
       "        text-align: right;\n",
       "    }\n",
       "</style>\n",
       "<table border=\"1\" class=\"dataframe\">\n",
       "  <thead>\n",
       "    <tr style=\"text-align: right;\">\n",
       "      <th></th>\n",
       "      <th>loss</th>\n",
       "      <th>acc</th>\n",
       "      <th>val_loss</th>\n",
       "      <th>val_acc</th>\n",
       "    </tr>\n",
       "  </thead>\n",
       "  <tbody>\n",
       "    <tr>\n",
       "      <th>24</th>\n",
       "      <td>0.129382</td>\n",
       "      <td>0.962732</td>\n",
       "      <td>0.161807</td>\n",
       "      <td>0.954048</td>\n",
       "    </tr>\n",
       "    <tr>\n",
       "      <th>23</th>\n",
       "      <td>0.132687</td>\n",
       "      <td>0.961910</td>\n",
       "      <td>0.165106</td>\n",
       "      <td>0.952143</td>\n",
       "    </tr>\n",
       "    <tr>\n",
       "      <th>22</th>\n",
       "      <td>0.135631</td>\n",
       "      <td>0.961645</td>\n",
       "      <td>0.166364</td>\n",
       "      <td>0.950476</td>\n",
       "    </tr>\n",
       "    <tr>\n",
       "      <th>20</th>\n",
       "      <td>0.142736</td>\n",
       "      <td>0.958992</td>\n",
       "      <td>0.174332</td>\n",
       "      <td>0.950476</td>\n",
       "    </tr>\n",
       "    <tr>\n",
       "      <th>21</th>\n",
       "      <td>0.139368</td>\n",
       "      <td>0.959310</td>\n",
       "      <td>0.171269</td>\n",
       "      <td>0.949524</td>\n",
       "    </tr>\n",
       "  </tbody>\n",
       "</table>\n",
       "</div>"
      ],
      "text/plain": [
       "        loss       acc  val_loss   val_acc\n",
       "24  0.129382  0.962732  0.161807  0.954048\n",
       "23  0.132687  0.961910  0.165106  0.952143\n",
       "22  0.135631  0.961645  0.166364  0.950476\n",
       "20  0.142736  0.958992  0.174332  0.950476\n",
       "21  0.139368  0.959310  0.171269  0.949524"
      ]
     },
     "execution_count": 147,
     "metadata": {},
     "output_type": "execute_result"
    }
   ],
   "source": [
    "save_model(mlp3,'mlp3.h5') ## 4 minutes\n",
    "\n",
    "# Observe the top 5 epics with highest validation accuracy\n",
    "pd.DataFrame(mlp1_history.history).sort_values(['val_acc'],\\\n",
    "                                               ascending=False).iloc[:5]"
   ]
  },
  {
   "cell_type": "code",
   "execution_count": 149,
   "id": "a1633c99",
   "metadata": {},
   "outputs": [
    {
     "name": "stdout",
     "output_type": "stream",
     "text": [
      "Model 3 Final Exam Accuracy:  0.94\n"
     ]
    }
   ],
   "source": [
    "accuracy_baseline_final_exam = accuracy_score(Finaly,\\\n",
    "                                              mlp3.predict_classes(FinalX))\n",
    "print (f'Model 3 Final Exam Accuracy: ', \\\n",
    "       accuracy_baseline_final_exam)"
   ]
  },
  {
   "cell_type": "markdown",
   "id": "1825ff79",
   "metadata": {},
   "source": [
    "### MLP Model 3\n",
    "- Hidden Layers: 4\n",
    "- Activiation Method: relu"
   ]
  },
  {
   "cell_type": "code",
   "execution_count": 154,
   "id": "0e879341",
   "metadata": {
    "scrolled": true
   },
   "outputs": [
    {
     "name": "stdout",
     "output_type": "stream",
     "text": [
      "Model: \"sequential_3\"\n",
      "_________________________________________________________________\n",
      "Layer (type)                 Output Shape              Param #   \n",
      "=================================================================\n",
      "dense_8 (Dense)              (None, 32)                25120     \n",
      "_________________________________________________________________\n",
      "dense_9 (Dense)              (None, 64)                2112      \n",
      "_________________________________________________________________\n",
      "dense_10 (Dense)             (None, 64)                4160      \n",
      "_________________________________________________________________\n",
      "dense_11 (Dense)             (None, 32)                2080      \n",
      "_________________________________________________________________\n",
      "dense_12 (Dense)             (None, 10)                330       \n",
      "=================================================================\n",
      "Total params: 33,802\n",
      "Trainable params: 33,802\n",
      "Non-trainable params: 0\n",
      "_________________________________________________________________\n"
     ]
    }
   ],
   "source": [
    "mlp4 = tf.keras.Sequential()\n",
    "mlp4.add(tf.keras.Input(shape=(784,)))\n",
    "mlp4.add(layers.Dense(32,activation='relu'))\n",
    "mlp4.add(layers.Dense(64,activation='relu'))\n",
    "mlp4.add(layers.Dense(64,activation='relu'))\n",
    "mlp4.add(layers.Dense(32,activation='relu'))\n",
    "mlp4.add(layers.Dense(10,activation='softmax'))\n",
    "mlp4.summary()"
   ]
  },
  {
   "cell_type": "code",
   "execution_count": 155,
   "id": "d1bb0c84",
   "metadata": {},
   "outputs": [],
   "source": [
    "# Compile\n",
    "mlp4.compile(loss='sparse_categorical_crossentropy',\n",
    "             optimizer=optimizers.RMSprop(learning_rate=1e-4),\n",
    "             metrics=['acc'])"
   ]
  },
  {
   "cell_type": "code",
   "execution_count": 156,
   "id": "3e8ba8de",
   "metadata": {},
   "outputs": [],
   "source": [
    "#Training\n",
    "mlp1_history=mlp4.fit(XTrain, yTrain,\n",
    "        epochs=25,\n",
    "        batch_size=32,\n",
    "        validation_data=(TestX,Testy),\n",
    "        verbose=0) "
   ]
  },
  {
   "cell_type": "code",
   "execution_count": 157,
   "id": "1497a8c2",
   "metadata": {},
   "outputs": [
    {
     "data": {
      "text/html": [
       "<div>\n",
       "<style scoped>\n",
       "    .dataframe tbody tr th:only-of-type {\n",
       "        vertical-align: middle;\n",
       "    }\n",
       "\n",
       "    .dataframe tbody tr th {\n",
       "        vertical-align: top;\n",
       "    }\n",
       "\n",
       "    .dataframe thead th {\n",
       "        text-align: right;\n",
       "    }\n",
       "</style>\n",
       "<table border=\"1\" class=\"dataframe\">\n",
       "  <thead>\n",
       "    <tr style=\"text-align: right;\">\n",
       "      <th></th>\n",
       "      <th>loss</th>\n",
       "      <th>acc</th>\n",
       "      <th>val_loss</th>\n",
       "      <th>val_acc</th>\n",
       "    </tr>\n",
       "  </thead>\n",
       "  <tbody>\n",
       "    <tr>\n",
       "      <th>23</th>\n",
       "      <td>0.093672</td>\n",
       "      <td>0.971989</td>\n",
       "      <td>0.152665</td>\n",
       "      <td>0.956429</td>\n",
       "    </tr>\n",
       "    <tr>\n",
       "      <th>24</th>\n",
       "      <td>0.091273</td>\n",
       "      <td>0.973289</td>\n",
       "      <td>0.152100</td>\n",
       "      <td>0.955476</td>\n",
       "    </tr>\n",
       "    <tr>\n",
       "      <th>22</th>\n",
       "      <td>0.096529</td>\n",
       "      <td>0.971459</td>\n",
       "      <td>0.153486</td>\n",
       "      <td>0.954762</td>\n",
       "    </tr>\n",
       "    <tr>\n",
       "      <th>20</th>\n",
       "      <td>0.103019</td>\n",
       "      <td>0.969735</td>\n",
       "      <td>0.156492</td>\n",
       "      <td>0.954762</td>\n",
       "    </tr>\n",
       "    <tr>\n",
       "      <th>21</th>\n",
       "      <td>0.099935</td>\n",
       "      <td>0.970371</td>\n",
       "      <td>0.157663</td>\n",
       "      <td>0.954048</td>\n",
       "    </tr>\n",
       "  </tbody>\n",
       "</table>\n",
       "</div>"
      ],
      "text/plain": [
       "        loss       acc  val_loss   val_acc\n",
       "23  0.093672  0.971989  0.152665  0.956429\n",
       "24  0.091273  0.973289  0.152100  0.955476\n",
       "22  0.096529  0.971459  0.153486  0.954762\n",
       "20  0.103019  0.969735  0.156492  0.954762\n",
       "21  0.099935  0.970371  0.157663  0.954048"
      ]
     },
     "execution_count": 157,
     "metadata": {},
     "output_type": "execute_result"
    }
   ],
   "source": [
    "save_model(mlp4,'mlp4.h5') ##10:14 2 minutes\n",
    "\n",
    "# Observe the top 5 epics with highest validation accuracy\n",
    "pd.DataFrame(mlp1_history.history).sort_values(['val_acc'],\\\n",
    "                                               ascending=False).iloc[:5]"
   ]
  },
  {
   "cell_type": "code",
   "execution_count": 158,
   "id": "2a4b27e3",
   "metadata": {},
   "outputs": [
    {
     "name": "stdout",
     "output_type": "stream",
     "text": [
      "Model 3 Final Exam Accuracy:  0.95\n"
     ]
    }
   ],
   "source": [
    "accuracy_baseline_final_exam = accuracy_score(Finaly,\\\n",
    "                                              mlp4.predict_classes(FinalX))\n",
    "print (f'Model 3 Final Exam Accuracy: ', \\\n",
    "       accuracy_baseline_final_exam)"
   ]
  },
  {
   "cell_type": "markdown",
   "id": "f8589ff1",
   "metadata": {},
   "source": [
    "### MLP Model 4\n",
    "- Hidden Layers: 4\n",
    "- Activiation Method: Leaky relu"
   ]
  },
  {
   "cell_type": "code",
   "execution_count": 159,
   "id": "192ba02c",
   "metadata": {
    "scrolled": true
   },
   "outputs": [
    {
     "name": "stdout",
     "output_type": "stream",
     "text": [
      "Model: \"sequential_4\"\n",
      "_________________________________________________________________\n",
      "Layer (type)                 Output Shape              Param #   \n",
      "=================================================================\n",
      "dense_13 (Dense)             (None, 32)                25120     \n",
      "_________________________________________________________________\n",
      "dense_14 (Dense)             (None, 64)                2112      \n",
      "_________________________________________________________________\n",
      "dense_15 (Dense)             (None, 64)                4160      \n",
      "_________________________________________________________________\n",
      "dense_16 (Dense)             (None, 32)                2080      \n",
      "_________________________________________________________________\n",
      "dense_17 (Dense)             (None, 10)                330       \n",
      "=================================================================\n",
      "Total params: 33,802\n",
      "Trainable params: 33,802\n",
      "Non-trainable params: 0\n",
      "_________________________________________________________________\n"
     ]
    }
   ],
   "source": [
    "mlp5 = tf.keras.Sequential()\n",
    "mlp5.add(tf.keras.Input(shape=(784,)))\n",
    "mlp5.add(layers.Dense(32,activation=tf.keras.layers.LeakyReLU(alpha=0.01)))\n",
    "mlp5.add(layers.Dense(64,activation=tf.keras.layers.LeakyReLU(alpha=0.01)))\n",
    "mlp5.add(layers.Dense(64,activation=tf.keras.layers.LeakyReLU(alpha=0.01)))\n",
    "mlp5.add(layers.Dense(32,activation=tf.keras.layers.LeakyReLU(alpha=0.01)))\n",
    "mlp5.add(layers.Dense(10,activation='softmax'))\n",
    "mlp5.summary()"
   ]
  },
  {
   "cell_type": "code",
   "execution_count": 160,
   "id": "685fea45",
   "metadata": {},
   "outputs": [],
   "source": [
    "# Compile\n",
    "mlp5.compile(loss='sparse_categorical_crossentropy',\n",
    "             optimizer=optimizers.RMSprop(learning_rate=1e-4),\n",
    "             metrics=['acc'])"
   ]
  },
  {
   "cell_type": "code",
   "execution_count": 161,
   "id": "408c33d4",
   "metadata": {},
   "outputs": [],
   "source": [
    "#Training\n",
    "mlp1_history=mlp5.fit(XTrain, yTrain,\n",
    "        epochs=25,\n",
    "        batch_size=32,\n",
    "        validation_data=(TestX,Testy),\n",
    "        verbose=0) "
   ]
  },
  {
   "cell_type": "code",
   "execution_count": 163,
   "id": "4c359330",
   "metadata": {},
   "outputs": [
    {
     "data": {
      "text/html": [
       "<div>\n",
       "<style scoped>\n",
       "    .dataframe tbody tr th:only-of-type {\n",
       "        vertical-align: middle;\n",
       "    }\n",
       "\n",
       "    .dataframe tbody tr th {\n",
       "        vertical-align: top;\n",
       "    }\n",
       "\n",
       "    .dataframe thead th {\n",
       "        text-align: right;\n",
       "    }\n",
       "</style>\n",
       "<table border=\"1\" class=\"dataframe\">\n",
       "  <thead>\n",
       "    <tr style=\"text-align: right;\">\n",
       "      <th></th>\n",
       "      <th>loss</th>\n",
       "      <th>acc</th>\n",
       "      <th>val_loss</th>\n",
       "      <th>val_acc</th>\n",
       "    </tr>\n",
       "  </thead>\n",
       "  <tbody>\n",
       "    <tr>\n",
       "      <th>23</th>\n",
       "      <td>0.096378</td>\n",
       "      <td>0.971565</td>\n",
       "      <td>0.140758</td>\n",
       "      <td>0.960238</td>\n",
       "    </tr>\n",
       "    <tr>\n",
       "      <th>24</th>\n",
       "      <td>0.093414</td>\n",
       "      <td>0.972308</td>\n",
       "      <td>0.139156</td>\n",
       "      <td>0.960000</td>\n",
       "    </tr>\n",
       "    <tr>\n",
       "      <th>21</th>\n",
       "      <td>0.102547</td>\n",
       "      <td>0.968780</td>\n",
       "      <td>0.146551</td>\n",
       "      <td>0.959286</td>\n",
       "    </tr>\n",
       "    <tr>\n",
       "      <th>22</th>\n",
       "      <td>0.099096</td>\n",
       "      <td>0.969735</td>\n",
       "      <td>0.143127</td>\n",
       "      <td>0.958571</td>\n",
       "    </tr>\n",
       "    <tr>\n",
       "      <th>20</th>\n",
       "      <td>0.105979</td>\n",
       "      <td>0.968223</td>\n",
       "      <td>0.145524</td>\n",
       "      <td>0.956190</td>\n",
       "    </tr>\n",
       "  </tbody>\n",
       "</table>\n",
       "</div>"
      ],
      "text/plain": [
       "        loss       acc  val_loss   val_acc\n",
       "23  0.096378  0.971565  0.140758  0.960238\n",
       "24  0.093414  0.972308  0.139156  0.960000\n",
       "21  0.102547  0.968780  0.146551  0.959286\n",
       "22  0.099096  0.969735  0.143127  0.958571\n",
       "20  0.105979  0.968223  0.145524  0.956190"
      ]
     },
     "execution_count": 163,
     "metadata": {},
     "output_type": "execute_result"
    }
   ],
   "source": [
    "save_model(mlp5,'mlp5.h5') ## 5 minutes\n",
    "\n",
    "# Observe the top 5 epics with highest validation accuracy\n",
    "pd.DataFrame(mlp1_history.history).sort_values(['val_acc'],\\\n",
    "                                               ascending=False).iloc[:5]"
   ]
  },
  {
   "cell_type": "code",
   "execution_count": 181,
   "id": "b2785f1a",
   "metadata": {
    "scrolled": true
   },
   "outputs": [
    {
     "name": "stdout",
     "output_type": "stream",
     "text": [
      "Model 4 Final Exam Accuracy:  0.96\n"
     ]
    }
   ],
   "source": [
    "accuracy_baseline_final_exam = accuracy_score(Finaly,\\\n",
    "                                              mlp5.predict_classes(FinalX))\n",
    "print (f'Model 4 Final Exam Accuracy: ', \\\n",
    "       accuracy_baseline_final_exam)"
   ]
  },
  {
   "cell_type": "markdown",
   "id": "3952eda8",
   "metadata": {},
   "source": [
    "## MLP Designed Experiment Results Below\n",
    "- The table only shows what I changed in the designed experiment.\n",
    "- There were other parameters/hyperparameters such as batch size, epochs (epics) that remained constant\n",
    "- I also monitored the processing times shown in the table\n",
    "- Overall, very similar results. With additional time, I could've further tune the MLP model and analyzed with additional metrics such as area under the curve. However, accuracy was suffice for this learning objective. It iis also easy to interpret and explain to non-technical individuals."
   ]
  },
  {
   "cell_type": "code",
   "execution_count": 252,
   "id": "0f646d79",
   "metadata": {},
   "outputs": [],
   "source": [
    "from tabulate import tabulate\n",
    "\n",
    "mlp_results = [\n",
    "    [\"Baseline\", \"1\", \"relu\", \"2\", \"95%\"],\n",
    "    [\"1\", \"2\", \"relu\", \"3\", \"95%\"],\n",
    "    [\"2\", \"2\", \"relu\", \"3\", \"94%\"],\n",
    "    [\"3\", \"4\", \"Leaky relu\", \"3\", \"95%\"],\n",
    "    [\"4\", \"4\", \"Leaky relu\", \"5\", \"96%\"]\n",
    "]\n",
    " \n",
    "# create header\n",
    "mlp_head = [\"MLP Model\", \"Hidden Layers\", \"Activation\",\\\n",
    "            \"Processing Time (minutes)\", \"Final Test Accuracy\"]\n",
    " \n",
    "# display table\n",
    "#print(tabulate(mlp_results, headers=mlp_head, tablefmt=\"html\"))"
   ]
  },
  {
   "cell_type": "markdown",
   "id": "b2606a6e",
   "metadata": {},
   "source": [
    "<table align=\"left\">\n",
    "<thead>\n",
    "<tr><th>MLP Model  </th><th style=\"text-align: right;\">  Hidden Layers</th><th>Activation  </th><th style=\"text-align: right;\">  Processing Time (minutes)</th><th>Final Test Accuracy  </th></tr>\n",
    "</thead>\n",
    "<tbody>\n",
    "<tr><td>Baseline   </td><td style=\"text-align: right;\">              1</td><td>relu        </td><td style=\"text-align: right;\">                          2</td><td>95%                  </td></tr>\n",
    "<tr><td>1          </td><td style=\"text-align: right;\">              2</td><td>relu        </td><td style=\"text-align: right;\">                          3</td><td>95%                  </td></tr>\n",
    "<tr><td>2          </td><td style=\"text-align: right;\">              2</td><td>relu        </td><td style=\"text-align: right;\">                          3</td><td>94%                  </td></tr>\n",
    "<tr><td>3          </td><td style=\"text-align: right;\">              4</td><td>Leaky relu  </td><td style=\"text-align: right;\">                          3</td><td>95%                  </td></tr>\n",
    "<tr><td>4          </td><td style=\"text-align: right;\">              4</td><td>Leaky relu  </td><td style=\"text-align: right;\">                          5</td><td>96%                  </td></tr>\n",
    "</tbody>\n",
    "</table>"
   ]
  },
  {
   "cell_type": "markdown",
   "id": "d8dcab48",
   "metadata": {},
   "source": [
    "## Baseline CNN"
   ]
  },
  {
   "cell_type": "code",
   "execution_count": 168,
   "id": "7ddd8288",
   "metadata": {},
   "outputs": [
    {
     "data": {
      "text/plain": [
       "(100, 28, 28, 1)"
      ]
     },
     "execution_count": 168,
     "metadata": {},
     "output_type": "execute_result"
    }
   ],
   "source": [
    "#Reshape the 784 back to 28x28 as CNN requires it\n",
    "XTrainRSR = XTrain.reshape(-1,28,28,1)\n",
    "TestXRSR = TestX.reshape(-1,28,28,1)\n",
    "FinalXRSR = FinalX.reshape(-1,28,28,1)\n",
    "FinalXRSR.shape"
   ]
  },
  {
   "cell_type": "code",
   "execution_count": 172,
   "id": "bf6a537b",
   "metadata": {},
   "outputs": [],
   "source": [
    "tf.keras.backend.clear_session()\n",
    "tf.random.set_seed(9)"
   ]
  },
  {
   "cell_type": "code",
   "execution_count": 176,
   "id": "ce47fd58",
   "metadata": {},
   "outputs": [],
   "source": [
    "# Baseline parameters for my CNN. \\\n",
    "# These were also taken from the sync session with the Xray example.\n",
    "# Again, the final activiation is softmax as \n",
    "##  this is multiclass with 10 different classifications.\n",
    "inputs = tf.keras.Input(shape=(28,28,1))\n",
    "x=layers.Conv2D(filters=32,\n",
    "                kernel_size=3,\n",
    "                activation='relu')(inputs)\n",
    "x=layers.MaxPooling2D()(x)\n",
    "x=layers.Flatten()(x)\n",
    "outputs=layers.Dense(10,activation='softmax')(x)\n",
    "\n",
    "convModel1=models.Model(inputs=inputs,outputs=outputs)"
   ]
  },
  {
   "cell_type": "code",
   "execution_count": 177,
   "id": "b8a17ca3",
   "metadata": {},
   "outputs": [
    {
     "name": "stdout",
     "output_type": "stream",
     "text": [
      "Model: \"model_2\"\n",
      "_________________________________________________________________\n",
      "Layer (type)                 Output Shape              Param #   \n",
      "=================================================================\n",
      "input_3 (InputLayer)         [(None, 28, 28, 1)]       0         \n",
      "_________________________________________________________________\n",
      "conv2d_2 (Conv2D)            (None, 26, 26, 32)        320       \n",
      "_________________________________________________________________\n",
      "max_pooling2d_2 (MaxPooling2 (None, 13, 13, 32)        0         \n",
      "_________________________________________________________________\n",
      "flatten_2 (Flatten)          (None, 5408)              0         \n",
      "_________________________________________________________________\n",
      "dense_2 (Dense)              (None, 10)                54090     \n",
      "=================================================================\n",
      "Total params: 54,410\n",
      "Trainable params: 54,410\n",
      "Non-trainable params: 0\n",
      "_________________________________________________________________\n"
     ]
    }
   ],
   "source": [
    "convModel1.summary()"
   ]
  },
  {
   "cell_type": "code",
   "execution_count": 179,
   "id": "39254c85",
   "metadata": {},
   "outputs": [],
   "source": [
    "#Compile baseline CNN\n",
    "convModel1.compile(\n",
    "    loss='sparse_categorical_crossentropy',\n",
    "    optimizer=tf.keras.optimizers.RMSprop(learning_rate=1e-4),\n",
    "    metrics=['acc'])"
   ]
  },
  {
   "cell_type": "code",
   "execution_count": 180,
   "id": "ef60ffa0",
   "metadata": {},
   "outputs": [],
   "source": [
    "#Training. I wanted similar batch size and epochs size \n",
    "##  from the MLP models to really be able to get a great comparison\n",
    "convModel1_history=convModel1.fit(XTrainRSR,yTrain,\n",
    "                                 batch_size=32,\n",
    "                                 epochs=25,\n",
    "                                validation_data=(TestXRSR,Testy),\n",
    "        verbose=0)"
   ]
  },
  {
   "cell_type": "code",
   "execution_count": 182,
   "id": "05f857cf",
   "metadata": {},
   "outputs": [
    {
     "data": {
      "text/plain": [
       "dict_keys(['loss', 'acc', 'val_loss', 'val_acc'])"
      ]
     },
     "execution_count": 182,
     "metadata": {},
     "output_type": "execute_result"
    }
   ],
   "source": [
    "convModel1_history.history.keys() #10:47 -- 10:52: 5 minutes"
   ]
  },
  {
   "cell_type": "code",
   "execution_count": 191,
   "id": "fee257a2",
   "metadata": {},
   "outputs": [
    {
     "name": "stdout",
     "output_type": "stream",
     "text": [
      "Baseline Final Exam Accuracy:  1.0\n"
     ]
    }
   ],
   "source": [
    "## This code shows the accuracy of the baseline CNN model\n",
    "## I had to use the np.argmax for the multiclass classification \n",
    "accuracy_baseline_final_exam = accuracy_score(Finaly,\\\n",
    "                            np.argmax(convModel1.predict(FinalXRSR),axis=1))\n",
    "print (f'Baseline Final Exam Accuracy: ', \\\n",
    "       accuracy_baseline_final_exam)\n",
    "\n",
    "## Interestingly, the accuracy was 100%..."
   ]
  },
  {
   "cell_type": "markdown",
   "id": "435d1c3d",
   "metadata": {},
   "source": [
    "## CNN Model 1\n",
    " - Hidden layers: 2\n",
    " - Activation: relu\n",
    " - Batch Size: 32\n",
    " - Epochs 25\n",
    " - Again, I wanted a controlled experiement with as much of the constants for a good comparison.\n",
    " - The only parameters for the designed experiment will be hidden layers and activation."
   ]
  },
  {
   "cell_type": "code",
   "execution_count": 192,
   "id": "941fe0fe",
   "metadata": {},
   "outputs": [],
   "source": [
    "inputs = tf.keras.Input(shape=(28,28,1))\n",
    "x=layers.Conv2D(filters=32,\n",
    "                kernel_size=3,\n",
    "                activation='relu')(inputs)\n",
    "x=layers.MaxPooling2D()(x)\n",
    "x=layers.Conv2D(filters=64,\n",
    "               kernel_size=3,\n",
    "               activation='relu')(x)\n",
    "x=layers.MaxPool2D()(x)\n",
    "x=layers.Flatten()(x)\n",
    "outputs=layers.Dense(10,activation='softmax')(x)\n",
    "\n",
    "convModel2=models.Model(inputs=inputs,outputs=outputs)"
   ]
  },
  {
   "cell_type": "code",
   "execution_count": 193,
   "id": "b5b1a580",
   "metadata": {},
   "outputs": [
    {
     "name": "stdout",
     "output_type": "stream",
     "text": [
      "Model: \"model_3\"\n",
      "_________________________________________________________________\n",
      "Layer (type)                 Output Shape              Param #   \n",
      "=================================================================\n",
      "input_4 (InputLayer)         [(None, 28, 28, 1)]       0         \n",
      "_________________________________________________________________\n",
      "conv2d_3 (Conv2D)            (None, 26, 26, 32)        320       \n",
      "_________________________________________________________________\n",
      "max_pooling2d_3 (MaxPooling2 (None, 13, 13, 32)        0         \n",
      "_________________________________________________________________\n",
      "conv2d_4 (Conv2D)            (None, 11, 11, 64)        18496     \n",
      "_________________________________________________________________\n",
      "max_pooling2d_4 (MaxPooling2 (None, 5, 5, 64)          0         \n",
      "_________________________________________________________________\n",
      "flatten_3 (Flatten)          (None, 1600)              0         \n",
      "_________________________________________________________________\n",
      "dense_3 (Dense)              (None, 10)                16010     \n",
      "=================================================================\n",
      "Total params: 34,826\n",
      "Trainable params: 34,826\n",
      "Non-trainable params: 0\n",
      "_________________________________________________________________\n"
     ]
    }
   ],
   "source": [
    "convModel2.summary()"
   ]
  },
  {
   "cell_type": "code",
   "execution_count": 194,
   "id": "47165aab",
   "metadata": {},
   "outputs": [],
   "source": [
    "#Compile CNN model 1\n",
    "convModel2.compile(\n",
    "    loss='sparse_categorical_crossentropy',\n",
    "    optimizer=tf.keras.optimizers.RMSprop(learning_rate=1e-4),\n",
    "    metrics=['acc'])"
   ]
  },
  {
   "cell_type": "code",
   "execution_count": 195,
   "id": "0ddb0e43",
   "metadata": {},
   "outputs": [],
   "source": [
    "#Training. All other parameters the same\n",
    "convModel1_history=convModel2.fit(XTrainRSR,yTrain,\n",
    "                                 batch_size=32,\n",
    "                                 epochs=25,\n",
    "                                validation_data=(TestXRSR,Testy),\n",
    "        verbose=0)"
   ]
  },
  {
   "cell_type": "code",
   "execution_count": 196,
   "id": "f2bc91a8",
   "metadata": {},
   "outputs": [
    {
     "data": {
      "text/plain": [
       "dict_keys(['loss', 'acc', 'val_loss', 'val_acc'])"
      ]
     },
     "execution_count": 196,
     "metadata": {},
     "output_type": "execute_result"
    }
   ],
   "source": [
    "convModel1_history.history.keys() #11:11 - 11:18 7 minutes"
   ]
  },
  {
   "cell_type": "code",
   "execution_count": 197,
   "id": "d316fa96",
   "metadata": {},
   "outputs": [
    {
     "name": "stdout",
     "output_type": "stream",
     "text": [
      "CNN Model 1 Final Exam Accuracy:  0.99\n"
     ]
    }
   ],
   "source": [
    "## This code shows the accuracy of the baseline CNN model\n",
    "## I had to use the np.argmax for the multiclass classification \n",
    "accuracy_baseline_final_exam = accuracy_score\\\n",
    "(Finaly,np.argmax(convModel2.predict(FinalXRSR),axis=1))\n",
    "print (f'CNN Model 1 Final Exam Accuracy: ', \\\n",
    "       accuracy_baseline_final_exam)"
   ]
  },
  {
   "cell_type": "markdown",
   "id": "6d047b63",
   "metadata": {},
   "source": [
    "## CNN Model 2\n",
    "- Hidden Layers: 2\n",
    "- Activation: Leaky relu"
   ]
  },
  {
   "cell_type": "code",
   "execution_count": 199,
   "id": "6f8e04ba",
   "metadata": {},
   "outputs": [],
   "source": [
    "inputs = tf.keras.Input(shape=(28,28,1))\n",
    "x=layers.Conv2D(filters=32,\n",
    "                kernel_size=3,\n",
    "                activation=tf.keras.layers.LeakyReLU(alpha=0.01))(inputs)\n",
    "x=layers.MaxPooling2D()(x)\n",
    "x=layers.Conv2D(filters=64,\n",
    "               kernel_size=3,\n",
    "               activation=tf.keras.layers.LeakyReLU(alpha=0.01))(x)\n",
    "x=layers.MaxPool2D()(x)\n",
    "x=layers.Flatten()(x)\n",
    "outputs=layers.Dense(10,activation='softmax')(x)\n",
    "\n",
    "convModel3=models.Model(inputs=inputs,outputs=outputs)"
   ]
  },
  {
   "cell_type": "code",
   "execution_count": 200,
   "id": "8ffd2b31",
   "metadata": {},
   "outputs": [
    {
     "name": "stdout",
     "output_type": "stream",
     "text": [
      "Model: \"model_4\"\n",
      "_________________________________________________________________\n",
      "Layer (type)                 Output Shape              Param #   \n",
      "=================================================================\n",
      "input_5 (InputLayer)         [(None, 28, 28, 1)]       0         \n",
      "_________________________________________________________________\n",
      "conv2d_5 (Conv2D)            (None, 26, 26, 32)        320       \n",
      "_________________________________________________________________\n",
      "max_pooling2d_5 (MaxPooling2 (None, 13, 13, 32)        0         \n",
      "_________________________________________________________________\n",
      "conv2d_6 (Conv2D)            (None, 11, 11, 64)        18496     \n",
      "_________________________________________________________________\n",
      "max_pooling2d_6 (MaxPooling2 (None, 5, 5, 64)          0         \n",
      "_________________________________________________________________\n",
      "flatten_4 (Flatten)          (None, 1600)              0         \n",
      "_________________________________________________________________\n",
      "dense_4 (Dense)              (None, 10)                16010     \n",
      "=================================================================\n",
      "Total params: 34,826\n",
      "Trainable params: 34,826\n",
      "Non-trainable params: 0\n",
      "_________________________________________________________________\n"
     ]
    }
   ],
   "source": [
    "convModel3.summary()"
   ]
  },
  {
   "cell_type": "code",
   "execution_count": 201,
   "id": "27d8cec3",
   "metadata": {},
   "outputs": [],
   "source": [
    "#Compile CNN model 2\n",
    "convModel3.compile(\n",
    "    loss='sparse_categorical_crossentropy',\n",
    "    optimizer=tf.keras.optimizers.RMSprop(learning_rate=1e-4),\n",
    "    metrics=['acc'])"
   ]
  },
  {
   "cell_type": "code",
   "execution_count": 202,
   "id": "bf3ca8c8",
   "metadata": {},
   "outputs": [],
   "source": [
    "#Training. All other parameters the same\n",
    "convModel1_history=convModel3.fit(XTrainRSR,yTrain,\n",
    "                                 batch_size=32,\n",
    "                                 epochs=25,\n",
    "                                validation_data=(TestXRSR,Testy),\n",
    "        verbose=0)"
   ]
  },
  {
   "cell_type": "code",
   "execution_count": 203,
   "id": "5e938d00",
   "metadata": {},
   "outputs": [
    {
     "data": {
      "text/plain": [
       "dict_keys(['loss', 'acc', 'val_loss', 'val_acc'])"
      ]
     },
     "execution_count": 203,
     "metadata": {},
     "output_type": "execute_result"
    }
   ],
   "source": [
    "convModel1_history.history.keys() #10 minutes"
   ]
  },
  {
   "cell_type": "code",
   "execution_count": 204,
   "id": "938f002b",
   "metadata": {},
   "outputs": [
    {
     "name": "stdout",
     "output_type": "stream",
     "text": [
      "CNN Model 2 Final Exam Accuracy:  1.0\n"
     ]
    }
   ],
   "source": [
    "## This code shows the accuracy of the baseline CNN model\n",
    "## I had to use the np.argmax for the multiclass classification \n",
    "accuracy_baseline_final_exam = accuracy_score\\\n",
    "(Finaly,np.argmax(convModel3.predict(FinalXRSR),axis=1))\n",
    "print (f'CNN Model 2 Final Exam Accuracy: ', \\\n",
    "       accuracy_baseline_final_exam)"
   ]
  },
  {
   "cell_type": "markdown",
   "id": "8b60e964",
   "metadata": {},
   "source": [
    "## CNN Model 3\n",
    "- Hidden Layers: 3\n",
    "- Activation relu\n",
    "- All other parameters were constant in order to get a good comparison"
   ]
  },
  {
   "cell_type": "code",
   "execution_count": 215,
   "id": "12459032",
   "metadata": {},
   "outputs": [],
   "source": [
    "inputs = tf.keras.Input(shape=(28,28,1))\n",
    "x=layers.Conv2D(filters=32,\n",
    "                kernel_size=3,\n",
    "                activation='relu')(inputs)\n",
    "x=layers.MaxPooling2D()(x)\n",
    "x=layers.Conv2D(filters=64,\n",
    "               kernel_size=3,\n",
    "               activation='relu')(x)\n",
    "x=layers.MaxPooling2D()(x)\n",
    "x=layers.Conv2D(filters=32,\n",
    "               kernel_size=3,\n",
    "               activation='relu')(x)\n",
    "x=layers.MaxPool2D()(x)\n",
    "x=layers.Flatten()(x)\n",
    "outputs=layers.Dense(10,activation='softmax')(x)\n",
    "\n",
    "convModel4=models.Model(inputs=inputs,outputs=outputs)"
   ]
  },
  {
   "cell_type": "code",
   "execution_count": 216,
   "id": "88beb0fb",
   "metadata": {},
   "outputs": [
    {
     "name": "stdout",
     "output_type": "stream",
     "text": [
      "Model: \"model_10\"\n",
      "_________________________________________________________________\n",
      "Layer (type)                 Output Shape              Param #   \n",
      "=================================================================\n",
      "input_15 (InputLayer)        [(None, 28, 28, 1)]       0         \n",
      "_________________________________________________________________\n",
      "conv2d_37 (Conv2D)           (None, 26, 26, 32)        320       \n",
      "_________________________________________________________________\n",
      "max_pooling2d_33 (MaxPooling (None, 13, 13, 32)        0         \n",
      "_________________________________________________________________\n",
      "conv2d_38 (Conv2D)           (None, 11, 11, 64)        18496     \n",
      "_________________________________________________________________\n",
      "max_pooling2d_34 (MaxPooling (None, 5, 5, 64)          0         \n",
      "_________________________________________________________________\n",
      "conv2d_39 (Conv2D)           (None, 3, 3, 32)          18464     \n",
      "_________________________________________________________________\n",
      "max_pooling2d_35 (MaxPooling (None, 1, 1, 32)          0         \n",
      "_________________________________________________________________\n",
      "flatten_10 (Flatten)         (None, 32)                0         \n",
      "_________________________________________________________________\n",
      "dense_10 (Dense)             (None, 10)                330       \n",
      "=================================================================\n",
      "Total params: 37,610\n",
      "Trainable params: 37,610\n",
      "Non-trainable params: 0\n",
      "_________________________________________________________________\n"
     ]
    }
   ],
   "source": [
    "convModel4.summary()"
   ]
  },
  {
   "cell_type": "code",
   "execution_count": 217,
   "id": "6ee67462",
   "metadata": {},
   "outputs": [],
   "source": [
    "#Compile CNN model 3\n",
    "convModel4.compile(\n",
    "    loss='sparse_categorical_crossentropy',\n",
    "    optimizer=tf.keras.optimizers.RMSprop(learning_rate=1e-4),\n",
    "    metrics=['acc'])"
   ]
  },
  {
   "cell_type": "code",
   "execution_count": 218,
   "id": "4c9bdcd3",
   "metadata": {},
   "outputs": [],
   "source": [
    "#Training. All other parameters the same\n",
    "convModel1_history=convModel4.fit(XTrainRSR,yTrain,\n",
    "                                 batch_size=32,\n",
    "                                 epochs=25,\n",
    "                                validation_data=(TestXRSR,Testy),\n",
    "        verbose=0)"
   ]
  },
  {
   "cell_type": "code",
   "execution_count": 219,
   "id": "c7e5649a",
   "metadata": {},
   "outputs": [
    {
     "data": {
      "text/plain": [
       "dict_keys(['loss', 'acc', 'val_loss', 'val_acc'])"
      ]
     },
     "execution_count": 219,
     "metadata": {},
     "output_type": "execute_result"
    }
   ],
   "source": [
    "convModel1_history.history.keys() #11:43 - 11:50.  7 minutes"
   ]
  },
  {
   "cell_type": "code",
   "execution_count": 220,
   "id": "60871566",
   "metadata": {
    "scrolled": true
   },
   "outputs": [
    {
     "name": "stdout",
     "output_type": "stream",
     "text": [
      "CNN Model 3 Final Exam Accuracy:  0.99\n"
     ]
    }
   ],
   "source": [
    "## This code shows the accuracy of the baseline CNN model\n",
    "## I had to use the np.argmax for the multiclass classification \n",
    "accuracy_baseline_final_exam = accuracy_score\\\n",
    "(Finaly,np.argmax(convModel4.predict(FinalXRSR),axis=1))\n",
    "print (f'CNN Model 3 Final Exam Accuracy: ', \\\n",
    "       accuracy_baseline_final_exam)"
   ]
  },
  {
   "cell_type": "markdown",
   "id": "070f2c2c",
   "metadata": {},
   "source": [
    "## CNN Model 4\n",
    "- Hidden Layers: 3\n",
    "- Activation: Leaky relu"
   ]
  },
  {
   "cell_type": "code",
   "execution_count": 222,
   "id": "f93751b5",
   "metadata": {},
   "outputs": [],
   "source": [
    "inputs = tf.keras.Input(shape=(28,28,1))\n",
    "x=layers.Conv2D(filters=32,\n",
    "                kernel_size=3,\n",
    "                activation=tf.keras.layers.LeakyReLU(alpha=0.01))(inputs)\n",
    "x=layers.MaxPooling2D()(x)\n",
    "x=layers.Conv2D(filters=64,\n",
    "               kernel_size=3,\n",
    "               activation=tf.keras.layers.LeakyReLU(alpha=0.01))(x)\n",
    "x=layers.MaxPooling2D()(x)\n",
    "x=layers.Conv2D(filters=32,\n",
    "               kernel_size=3,\n",
    "               activation=tf.keras.layers.LeakyReLU(alpha=0.01))(x)\n",
    "x=layers.MaxPool2D()(x)\n",
    "x=layers.Flatten()(x)\n",
    "outputs=layers.Dense(10,activation='softmax')(x)\n",
    "\n",
    "convModel5=models.Model(inputs=inputs,outputs=outputs)"
   ]
  },
  {
   "cell_type": "code",
   "execution_count": 223,
   "id": "75b3aed1",
   "metadata": {},
   "outputs": [
    {
     "name": "stdout",
     "output_type": "stream",
     "text": [
      "Model: \"model_11\"\n",
      "_________________________________________________________________\n",
      "Layer (type)                 Output Shape              Param #   \n",
      "=================================================================\n",
      "input_16 (InputLayer)        [(None, 28, 28, 1)]       0         \n",
      "_________________________________________________________________\n",
      "conv2d_40 (Conv2D)           (None, 26, 26, 32)        320       \n",
      "_________________________________________________________________\n",
      "max_pooling2d_36 (MaxPooling (None, 13, 13, 32)        0         \n",
      "_________________________________________________________________\n",
      "conv2d_41 (Conv2D)           (None, 11, 11, 64)        18496     \n",
      "_________________________________________________________________\n",
      "max_pooling2d_37 (MaxPooling (None, 5, 5, 64)          0         \n",
      "_________________________________________________________________\n",
      "conv2d_42 (Conv2D)           (None, 3, 3, 32)          18464     \n",
      "_________________________________________________________________\n",
      "max_pooling2d_38 (MaxPooling (None, 1, 1, 32)          0         \n",
      "_________________________________________________________________\n",
      "flatten_11 (Flatten)         (None, 32)                0         \n",
      "_________________________________________________________________\n",
      "dense_11 (Dense)             (None, 10)                330       \n",
      "=================================================================\n",
      "Total params: 37,610\n",
      "Trainable params: 37,610\n",
      "Non-trainable params: 0\n",
      "_________________________________________________________________\n"
     ]
    }
   ],
   "source": [
    "convModel5.summary()"
   ]
  },
  {
   "cell_type": "code",
   "execution_count": 224,
   "id": "0af1df5d",
   "metadata": {},
   "outputs": [],
   "source": [
    "#Compile CNN model 1\n",
    "convModel5.compile(\n",
    "    loss='sparse_categorical_crossentropy',\n",
    "    optimizer=tf.keras.optimizers.RMSprop(learning_rate=1e-4),\n",
    "    metrics=['acc'])"
   ]
  },
  {
   "cell_type": "code",
   "execution_count": 225,
   "id": "3588f32e",
   "metadata": {},
   "outputs": [],
   "source": [
    "#Training. All other parameters the same\n",
    "convModel1_history=convModel5.fit(XTrainRSR,yTrain,\n",
    "                                 batch_size=32,\n",
    "                                 epochs=25,\n",
    "                                validation_data=(TestXRSR,Testy),\n",
    "        verbose=0)"
   ]
  },
  {
   "cell_type": "code",
   "execution_count": 226,
   "id": "7a06a618",
   "metadata": {},
   "outputs": [
    {
     "data": {
      "text/plain": [
       "dict_keys(['loss', 'acc', 'val_loss', 'val_acc'])"
      ]
     },
     "execution_count": 226,
     "metadata": {},
     "output_type": "execute_result"
    }
   ],
   "source": [
    "convModel1_history.history.keys() #8 minutes"
   ]
  },
  {
   "cell_type": "code",
   "execution_count": 227,
   "id": "f9b3db0f",
   "metadata": {},
   "outputs": [
    {
     "name": "stdout",
     "output_type": "stream",
     "text": [
      "CNN Model 4 Final Exam Accuracy:  0.97\n"
     ]
    }
   ],
   "source": [
    "## This code shows the accuracy of the baseline CNN model\n",
    "## I had to use the np.argmax for the multiclass classification \n",
    "accuracy_baseline_final_exam = accuracy_score\\\n",
    "(Finaly,np.argmax(convModel5.predict(FinalXRSR),axis=1))\n",
    "print (f'CNN Model 4 Final Exam Accuracy: ', \\\n",
    "       accuracy_baseline_final_exam)"
   ]
  },
  {
   "cell_type": "markdown",
   "id": "95f8048e",
   "metadata": {},
   "source": [
    "# CNN and MLP Results/Summary\n",
    " - The table below shows the 10 different models I trained\n",
    " - It compares the hidden layers, activition between the two models\n",
    " - Again, I could've spent more time tuning, looking at other performance metrics (confusion matrix, AUC, etc.).\n",
    " - Given the short time, I've decided to conclude with CNN model 2 as it yeilded 100% accuracy on the final exam.\n",
    " - Also, with the small set of parameters for the designed experiment, the different processing times did not vary enough for me to make a decision on which model to select."
   ]
  },
  {
   "cell_type": "code",
   "execution_count": 254,
   "id": "66b04d42",
   "metadata": {},
   "outputs": [],
   "source": [
    "from tabulate import tabulate\n",
    "\n",
    "model_results = [\n",
    "    [\"Baseline MLP\", \"1\", \"relu\", \"2\", \"95%\"],\n",
    "    [\"MLP 1\", \"2\", \"relu\", \"3\", \"95%\"],\n",
    "    [\"MLP 2\", \"2\", \"relu\", \"3\", \"94%\"],\n",
    "    [\"MLP 3\", \"4\", \"Leaky relu\", \"3\", \"95%\"],\n",
    "    [\"MLP 4\", \"4\", \"Leaky relu\", \"5\", \"96%\"],\n",
    "    [\"Baseline CNN\", \"1\", \"relu\", \"7\", \"100%\"],\n",
    "    [\"CNN 1\", \"2\", \"relu\", \"7\", \"99%\"],\n",
    "    [\"CNN 2\", \"2\", \"Leaky relu\", \"10\", \"100%\"],\n",
    "    [\"CNN 3\", \"3\", \"relu\", \"7\", \"99%\"],\n",
    "    [\"CNN 4\", \"3\", \"Leaky relu\", \"7\", \"97%\"]\n",
    "]\n",
    " \n",
    "# create header\n",
    "model_head = [\"Model\", \"Hidden Layers\", \"Activation\",\\\n",
    "              \"Processing Time (minutes)\", \"Final Test Accuracy\"]\n",
    " \n",
    "# display table\n",
    "#print(tabulate(model_results, headers=model_head, tablefmt=\"html\"))"
   ]
  },
  {
   "cell_type": "markdown",
   "id": "f5b21833",
   "metadata": {},
   "source": [
    "<table align=\"left\">\n",
    "<thead>\n",
    "<tr><th>Model       </th><th style=\"text-align: right;\">  Hidden Layers</th><th>Activation  </th><th style=\"text-align: right;\">  Processing Time (minutes)</th><th>Final Test Accuracy  </th></tr>\n",
    "</thead>\n",
    "<tbody>\n",
    "<tr><td>Baseline MLP</td><td style=\"text-align: right;\">              1</td><td>relu        </td><td style=\"text-align: right;\">                          2</td><td>95%                  </td></tr>\n",
    "<tr><td>MLP 1       </td><td style=\"text-align: right;\">              2</td><td>relu        </td><td style=\"text-align: right;\">                          3</td><td>95%                  </td></tr>\n",
    "<tr><td>MLP 2       </td><td style=\"text-align: right;\">              2</td><td>relu        </td><td style=\"text-align: right;\">                          3</td><td>94%                  </td></tr>\n",
    "<tr><td>MLP 3       </td><td style=\"text-align: right;\">              4</td><td>Leaky relu  </td><td style=\"text-align: right;\">                          3</td><td>95%                  </td></tr>\n",
    "<tr><td>MLP 4       </td><td style=\"text-align: right;\">              4</td><td>Leaky relu  </td><td style=\"text-align: right;\">                          5</td><td>96%                  </td></tr>\n",
    "<tr><td>Baseline CNN</td><td style=\"text-align: right;\">              1</td><td>relu        </td><td style=\"text-align: right;\">                          7</td><td>100%                 </td></tr>\n",
    "<tr><td>CNN 1       </td><td style=\"text-align: right;\">              2</td><td>relu        </td><td style=\"text-align: right;\">                          7</td><td>99%                  </td></tr>\n",
    "<tr><td>CNN 2       </td><td style=\"text-align: right;\">              2</td><td>Leaky relu  </td><td style=\"text-align: right;\">                         10</td><td>100%                 </td></tr>\n",
    "<tr><td>CNN 3       </td><td style=\"text-align: right;\">              3</td><td>relu        </td><td style=\"text-align: right;\">                          7</td><td>99%                  </td></tr>\n",
    "<tr><td>CNN 4       </td><td style=\"text-align: right;\">              3</td><td>Leaky relu  </td><td style=\"text-align: right;\">                          7</td><td>97%                  </td></tr>\n",
    "</tbody>\n",
    "</table>"
   ]
  },
  {
   "cell_type": "markdown",
   "id": "03989bb9",
   "metadata": {},
   "source": [
    "## Implement/Submission\n",
    "- CNN 2 was the winner. Hidden layers: 2. Activation Leaky Relu."
   ]
  },
  {
   "cell_type": "code",
   "execution_count": 230,
   "id": "c2a1893f",
   "metadata": {},
   "outputs": [],
   "source": [
    "testDat =  pd.read_csv('test.csv')"
   ]
  },
  {
   "cell_type": "code",
   "execution_count": 231,
   "id": "7ee6e642",
   "metadata": {},
   "outputs": [],
   "source": [
    "test_final_exam=testDat.to_numpy(copy=True)\n",
    "#Divide my 255 to scale pixels. Should only be bettwen 0 and 1\n",
    "test_final_exam = test_final_exam/255"
   ]
  },
  {
   "cell_type": "code",
   "execution_count": 236,
   "id": "a18360d7",
   "metadata": {},
   "outputs": [],
   "source": [
    "#Reshape for CNN\n",
    "test_final_exam_RS = test_final_exam.reshape(-1,28,28,1)"
   ]
  },
  {
   "cell_type": "code",
   "execution_count": 246,
   "id": "199761e7",
   "metadata": {},
   "outputs": [],
   "source": [
    "y_pred = np.argmax(convModel3.predict(test_final_exam_RS),axis=1)"
   ]
  },
  {
   "cell_type": "code",
   "execution_count": 247,
   "id": "e053b239",
   "metadata": {},
   "outputs": [],
   "source": [
    "# Method to produce the submission file\n",
    "def write_preds(preds, fname):\n",
    "    pd.DataFrame({\"ImageId\": list(range(1,len(preds)+1)), \\\n",
    "                  \"Label\": preds}).to_csv(fname, index=False, header=True)"
   ]
  },
  {
   "cell_type": "code",
   "execution_count": 248,
   "id": "5490ccdf",
   "metadata": {},
   "outputs": [],
   "source": [
    "# Write to file your test score for submission\n",
    "write_preds(y_pred, \"digit_submission_CNN.csv\")"
   ]
  }
 ],
 "metadata": {
  "hide_input": false,
  "kernelspec": {
   "display_name": "Python 3",
   "language": "python",
   "name": "python3"
  },
  "language_info": {
   "codemirror_mode": {
    "name": "ipython",
    "version": 3
   },
   "file_extension": ".py",
   "mimetype": "text/x-python",
   "name": "python",
   "nbconvert_exporter": "python",
   "pygments_lexer": "ipython3",
   "version": "3.8.8"
  },
  "latex_envs": {
   "LaTeX_envs_menu_present": true,
   "autoclose": false,
   "autocomplete": true,
   "bibliofile": "biblio.bib",
   "cite_by": "apalike",
   "current_citInitial": 1,
   "eqLabelWithNumbers": true,
   "eqNumInitial": 1,
   "hotkeys": {
    "equation": "Ctrl-E",
    "itemize": "Ctrl-I"
   },
   "labels_anchors": false,
   "latex_user_defs": false,
   "report_style_numbering": false,
   "user_envs_cfg": false
  },
  "toc": {
   "base_numbering": 1,
   "nav_menu": {},
   "number_sections": false,
   "sideBar": true,
   "skip_h1_title": false,
   "title_cell": "Table of Contents",
   "title_sidebar": "Contents",
   "toc_cell": false,
   "toc_position": {},
   "toc_section_display": true,
   "toc_window_display": false
  }
 },
 "nbformat": 4,
 "nbformat_minor": 5
}
